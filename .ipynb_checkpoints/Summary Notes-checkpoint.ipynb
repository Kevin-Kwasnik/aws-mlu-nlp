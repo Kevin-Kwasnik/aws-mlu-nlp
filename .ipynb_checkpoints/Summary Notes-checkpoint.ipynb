{
 "cells": [
  {
   "cell_type": "markdown",
   "id": "9fc0514c",
   "metadata": {},
   "source": [
    "# Definitions:\n",
    "\n",
    "| ML | Statistics/Math/other | Simply Put |\n",
    "| :- | :- | :- |\n",
    "| Label/Target/y | Dependent/Response/Output Variable| The thing you're trying to predict|\n",
    "| Feature/x | Independent/Explanatory/Input Variable | Data that help you make predictions |\n",
    "| Feature Engineering | Transformation | Reshaping data to get more value |\n",
    "| 1d,2d,...nd | Dimensionality | Number of features |\n",
    "| Model Weights | Parameters | A set of numbers embedded in a model that can predict the labels |\n",
    "\n",
    "## Applications\n",
    "\n",
    "|Problem type | Description |\n",
    "|:- | :- |\n",
    "|Ranking | Helping users find the most relevant thing|\n",
    "|Recommendation | Giving users the thing they may be most interested in |\n",
    "| Classification | Figuring out what kind of thing something is |\n",
    "| Regression | Predicting a numerical value of a thing |\n",
    "| Clustering | Putting similar things together |\n",
    "| Anomaly Detection | Finding uncommon things |\n",
    "\n",
    "## Supervised vs. Unsupervised learning\n",
    "\n",
    "**Supervised:** Data is provided with the correct labels\n",
    "- model learns by looking at these examples\n",
    "\n",
    "- **Regression** (Quantity):\n",
    "    - Linear\n",
    "    - KNN\n",
    "    - Neural Net\n",
    "    - Trees\n",
    "\n",
    "- **Classification** (Category):\n",
    "    - KNN\n",
    "    - Neural Net\n",
    "    - Trees\n",
    "    - SVM\n",
    "    - Logistic\n",
    "    \n",
    "**Unsupervised:** Data is provided without labels\n",
    "- model finds patterns in the idea\n",
    "\n",
    "    - K-means\n",
    "    - PCA\n",
    "    - Collaborative Filtering"
   ]
  },
  {
   "cell_type": "code",
   "execution_count": 1,
   "id": "df79d83d",
   "metadata": {},
   "outputs": [],
   "source": [
    "# up to 1.5"
   ]
  },
  {
   "cell_type": "code",
   "execution_count": null,
   "id": "31ae11f2",
   "metadata": {},
   "outputs": [],
   "source": []
  }
 ],
 "metadata": {
  "kernelspec": {
   "display_name": "Python 3 (ipykernel)",
   "language": "python",
   "name": "python3"
  },
  "language_info": {
   "codemirror_mode": {
    "name": "ipython",
    "version": 3
   },
   "file_extension": ".py",
   "mimetype": "text/x-python",
   "name": "python",
   "nbconvert_exporter": "python",
   "pygments_lexer": "ipython3",
   "version": "3.9.7"
  }
 },
 "nbformat": 4,
 "nbformat_minor": 5
}
